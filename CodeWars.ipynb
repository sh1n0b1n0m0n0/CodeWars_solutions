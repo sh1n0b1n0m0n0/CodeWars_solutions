{
 "cells": [
  {
   "cell_type": "markdown",
   "metadata": {},
   "source": [
    "# 7 Kyu - Jaden Casing Strings"
   ]
  },
  {
   "cell_type": "markdown",
   "metadata": {},
   "source": [
    "Jaden Smith, the son of Will Smith, is the star of films such as The Karate Kid (2010) and After Earth (2013). Jaden is also known for some of his philosophy that he delivers via Twitter. When writing on Twitter, he is known for almost always capitalizing every word. For simplicity, you'll have to capitalize each word, check out how contractions are expected to be in the example below.\n",
    "\n",
    "Your task is to convert strings to how they would be written by Jaden Smith. The strings are actual quotes from Jaden Smith, but they are not capitalized in the same way he originally typed them.\n",
    "\n",
    "**Example:**\n",
    "\n",
    "Not Jaden-Cased: \"How can mirrors be real if our eyes aren't real\"\n",
    "\n",
    "Jaden-Cased:     \"How Can Mirrors Be Real If Our Eyes Aren't Real\""
   ]
  },
  {
   "cell_type": "code",
   "execution_count": 10,
   "metadata": {},
   "outputs": [
    {
     "data": {
      "text/plain": [
       "\"How Can Mirrors Be Real If Our A Eyes Aren't Real\""
      ]
     },
     "execution_count": 10,
     "metadata": {},
     "output_type": "execute_result"
    }
   ],
   "source": [
    "def toJadenCase(string):\n",
    "    new_list = []\n",
    "    split_string = string.split()\n",
    "    for word in split_string:\n",
    "        new_word = word[0].upper()+word[1:]\n",
    "        new_list.append(new_word)\n",
    "    new_string = ' '.join(new_list)\n",
    "    return new_string\n",
    "\n",
    "toJadenCase(\"How can mirrors be real if our a eyes aren't real\")\n",
    "\n",
    "#def toJadenCase(string):        \n",
    "#    return \" \".join(w.capitalize() for w in string.split())"
   ]
  },
  {
   "cell_type": "code",
   "execution_count": null,
   "metadata": {},
   "outputs": [],
   "source": [
    "#Test\n",
    "#quote = \"How can mirrors be real if our eyes aren't real\"\n",
    "#test.assert_equals(toJadenCase(quote), \"How Can Mirrors Be Real If Our Eyes Aren't Real\")"
   ]
  },
  {
   "cell_type": "markdown",
   "metadata": {},
   "source": [
    "# 7 Kyu - The Coupon Code"
   ]
  },
  {
   "cell_type": "markdown",
   "metadata": {},
   "source": [
    "Story\n",
    "\n",
    "Your online store likes to give out coupons for special occasions. Some customers try to cheat the system by entering invalid codes or using expired coupons.\n",
    "\n",
    "Task\n",
    "\n",
    "**Your mission:**\n",
    "\n",
    "Write a function called checkCoupon which verifies that a coupon code is valid and not expired.\n",
    "\n",
    "A coupon is no more valid on the day AFTER the expiration date. All dates will be passed as strings in this format: \"MONTH DATE, YEAR\".\n",
    "\n",
    "**Examples:**\n",
    "\n",
    "checkCoupon(\"123\", \"123\", \"July 9, 2015\", \"July 9, 2015\")  == True\n",
    "\n",
    "checkCoupon(\"123\", \"123\", \"July 9, 2015\", \"July 2, 2015\")  == False"
   ]
  },
  {
   "cell_type": "code",
   "execution_count": 20,
   "metadata": {},
   "outputs": [
    {
     "name": "stdout",
     "output_type": "stream",
     "text": [
      "True\n",
      "False\n",
      "False\n",
      "True\n",
      "False\n",
      "False\n",
      "False\n",
      "True\n"
     ]
    }
   ],
   "source": [
    "import datetime\n",
    "\n",
    "def check_coupon(entered_code, correct_code, current_date, expiration_date):\n",
    "\n",
    "    date1 = datetime.datetime.strptime(current_date, '%B %d, %Y')\n",
    "    date2 = datetime.datetime.strptime(expiration_date, '%B %d, %Y')\n",
    "    if (entered_code is correct_code) and type(entered_code) == type(correct_code):\n",
    "        if date1 <= date2:\n",
    "            return True\n",
    "    return False\n",
    "    #if entered_code is correct_code:\n",
    "        #return(datetime.datetime.strptime(current_date,'%B %d, %Y') <= datetime.datetime.strptime(expiration_date,'%B %d, %Y'))\n",
    "    #return False\n",
    "\n",
    "print(check_coupon(\"123\", \"123\", \"July 9, 2015\", \"July 9, 2015\"))            #True\n",
    "print(check_coupon(\"123\", \"123\", \"July 9, 2015\", \"July 2, 2015\"))            #False\n",
    "print(check_coupon('12abcd3','12abcd3','January 5, 2014','January 1, 2014')) #False\n",
    "print(check_coupon('123ablqc0','123ablqc0','July 5, 2000','July 5, 2000'))   #True\n",
    "print(check_coupon(0,False,'September 5, 2014','September 25, 2014'))        #False\n",
    "print(check_coupon('1',True,'September 5, 2014','September 25, 2014'))       #False \n",
    "print(check_coupon(\"123\", \"123\", \"July 9, 2015\", \"July 2, 2015\"))            #False\n",
    "print(check_coupon('a12v564','a12v564','March 5, 1998','March 25, 1998'))    #True"
   ]
  },
  {
   "cell_type": "markdown",
   "metadata": {},
   "source": [
    "# 6 Kyu - Build a pile of Cubes"
   ]
  },
  {
   "cell_type": "markdown",
   "metadata": {},
   "source": [
    "Your task is to construct a building which will be a pile of n cubes. The cube at the bottom will have a volume of n^3, the cube above will have volume of (n-1)^3 and so on until the top which will have a volume of 1^3.\n",
    "\n",
    "You are given the total volume m of the building. Being given m can you find the number n of cubes you will have to build?\n",
    "\n",
    "The parameter of the function findNb (find_nb, find-nb, findNb) will be an integer m and you have to return the integer n such as n^3 + (n-1)^3 + ... + 1^3 = m if such a n exists or -1 if there is no such n."
   ]
  },
  {
   "cell_type": "code",
   "execution_count": 2,
   "metadata": {},
   "outputs": [],
   "source": [
    "from math import sqrt\n",
    "\n",
    "def find_nb(m):\n",
    "    num_of_cubes = int(sqrt(2*(sqrt(1.0*m))))\n",
    "\n",
    "    if (num_of_cubes*(num_of_cubes + 1)//2)*(num_of_cubes*(num_of_cubes + 1)//2) == m:\n",
    "        return num_of_cubes\n",
    "    else:\n",
    "        return -1"
   ]
  },
  {
   "cell_type": "code",
   "execution_count": 3,
   "metadata": {},
   "outputs": [
    {
     "name": "stdout",
     "output_type": "stream",
     "text": [
      "m ->  10148913422064436761\n",
      "n1 ->  25485887449.0\n",
      "n2 ->  159642.0\n",
      "This is num_of_cubes in int type ->  79821\n",
      "This is x ->  10148913422064436761\n",
      "m ->  10148913422064436761\n",
      "n1 ->  25485887449.0\n",
      "n2 ->  159642.0\n",
      "This is num_of_cubes in int type ->  79821\n",
      "This is num_of_cubes ->  79821\n"
     ]
    }
   ],
   "source": [
    "from math import sqrt\n",
    "\n",
    "def find_nb(m):\n",
    "    print('m -> ', m)\n",
    "    \n",
    "    \n",
    "    n1 = (8*sqrt(m) + 1)\n",
    "    print('n1 -> ',n1)\n",
    "    n2 = (sqrt(n1) - 1)\n",
    "    print('n2 -> ',n2)\n",
    "    num_of_cubes = 1/2*(n2)\n",
    "    #num_of_cubes = 1/2*(sqrt(8*sqrt(m) + 1) - 1)\n",
    "    \n",
    "  \n",
    "    int_nob = int(num_of_cubes)\n",
    "    print('This is num_of_cubes in int type -> ',int_nob)\n",
    "    if num_of_cubes % int_nob == 0:\n",
    "        return int(num_of_cubes)\n",
    "    else:\n",
    "        return -1\n",
    "\n",
    "\n",
    "cubes = find_nb(10148913422064436761) \n",
    "x = sum([i**3 for i in range(cubes+1)])\n",
    "\n",
    "print('This is x -> ', x)\n",
    "print('This is num_of_cubes -> ',find_nb(10148913422064436761))"
   ]
  },
  {
   "cell_type": "code",
   "execution_count": null,
   "metadata": {},
   "outputs": [],
   "source": [
    "from math import sqrt\n",
    "\n",
    "def find_nb(m):\n",
    "    print('m -> ', m)\n",
    "    \n",
    "    \n",
    "    n1 = (8*sqrt(m) + 1)\n",
    "    print('n1 -> ',n1 ,type(n1))\n",
    "    n2 = (sqrt(n1) - 1)\n",
    "    print('n2 -> ',n2 ,type(n2))\n",
    "    num_of_cubes = 1/2*(n2)\n",
    "    print('num_of_cubes ->', num_of_cubes, type(num_of_cubes))\n",
    "    #num_of_cubes = 1/2*(sqrt(8*sqrt(m) + 1) - 1)\n",
    "    \n",
    "  \n",
    "    int_nob = int(num_of_cubes)\n",
    "    pseudo_m = sum([i**3 for i in range(int_nob+1)])\n",
    "    print('pseudo_m ->',pseudo_m, type(pseudo_m))\n",
    "    m = float(m)\n",
    "    print('This is num_of_cubes in int type -> ',int_nob, type(int_nob))\n",
    "    #try: \n",
    "    #    if  pseudo_m != m:\n",
    "            #return -1\n",
    "     #   elif num_of_cubes % int_nob == 0:\n",
    "           # return num_of_cubes\n",
    "    #except TypeError:\n",
    "        #return -1\n",
    "    \n",
    "    if ((int_nob * (int_nob + 1)) >> 1) ** 2 == m:\n",
    "        return int_nob\n",
    "    return -1\n",
    "\n",
    "print('This is num_of_cubes -> ', find_nb(10170290665425347857)) #-1\n",
    "print('\\n')\n",
    "print('This is num_of_cubes -> ', find_nb(4183059834009)) #2022\n",
    "print('\\n')\n",
    "print('This is num_of_cubes -> ', find_nb(24723578342962)) #-1\n",
    "print('\\n')\n",
    "print('This is num_of_cubes -> ', find_nb(135440716410000)) #4824\n",
    "print('\\n')\n",
    "print('This is num_of_cubes -> ', find_nb(40539911473216)) #3568\n",
    "print('\\n')\n",
    "print('This is num_of_cubes -> ', find_nb(26825883955641)) #3218\n",
    "print('\\n')\n",
    "print('This is num_of_cubes -> ', find_nb(10148913422064436761)) #73326\n",
    "print('\\n')"
   ]
  },
  {
   "cell_type": "code",
   "execution_count": null,
   "metadata": {},
   "outputs": [],
   "source": [
    "from math import sqrt\n",
    "\n",
    "def find_nb(m):\n",
    "    print('m -> ', m)\n",
    "    \n",
    "    num_of_cubes = int(sqrt(2 * sqrt(m)))\n",
    "  \n",
    "    int_nob = int(num_of_cubes)\n",
    "    pseudo_m = sum([i**3 for i in range(int_nob+1)])\n",
    "    print('pseudo_m ->',pseudo_m, type(pseudo_m))\n",
    "    m = float(m)\n",
    "    print('This is num_of_cubes in int type -> ',int_nob, type(int_nob))\n",
    "    \n",
    "    if ((int_nob * (int_nob + 1)) >> 1) ** 2 == m:\n",
    "        return int_nob\n",
    "    return -1\n",
    "\n",
    "print('This is num_of_cubes -> ', find_nb(10170290665425347857)) #-1\n",
    "print('\\n')\n",
    "print('This is num_of_cubes -> ', find_nb(4183059834009)) #2022\n",
    "print('\\n')\n",
    "print('This is num_of_cubes -> ', find_nb(24723578342962)) #-1\n",
    "print('\\n')\n",
    "print('This is num_of_cubes -> ', find_nb(135440716410000)) #4824\n",
    "print('\\n')\n",
    "print('This is num_of_cubes -> ', find_nb(40539911473216)) #3568\n",
    "print('\\n')\n",
    "print('This is num_of_cubes -> ', find_nb(26825883955641)) #3218\n",
    "print('\\n')\n",
    "print('This is num_of_cubes -> ', find_nb(10148913422064436761)) #73326\n",
    "print('\\n')"
   ]
  },
  {
   "cell_type": "code",
   "execution_count": null,
   "metadata": {},
   "outputs": [],
   "source": [
    "def find_nb(m):\n",
    "    n = 1\n",
    "    volume = 0\n",
    "    while volume < m:\n",
    "        volume += n**3\n",
    "        if volume == m:\n",
    "            return n\n",
    "        n += 1\n",
    "    return -1\n",
    "\n",
    "from math import sqrt\n",
    "\n",
    "def find_nb(m):\n",
    "    print('m -> ', m)\n",
    "    \n",
    "    num_of_cubes = int(sqrt(2 * sqrt(m)))\n",
    "  \n",
    "    int_nob = int(num_of_cubes)\n",
    "    pseudo_m = sum([i**3 for i in range(int_nob+1)])\n",
    "    print('pseudo_m ->',pseudo_m, type(pseudo_m))\n",
    "    m = float(m)\n",
    "    print('This is num_of_cubes in int type -> ',int_nob, type(int_nob))\n",
    "    \n",
    "    if ((int_nob * (int_nob + 1)) >> 1) ** 2 == m:\n",
    "        return int_nob\n",
    "    return -1\n",
    "\n",
    "print('This is num_of_cubes -> ', find_nb(10170290665425347857)) #-1\n",
    "print('\\n')\n",
    "print('This is num_of_cubes -> ', find_nb(4183059834009)) #2022\n",
    "print('\\n')\n",
    "print('This is num_of_cubes -> ', find_nb(24723578342962)) #-1\n",
    "print('\\n')\n",
    "print('This is num_of_cubes -> ', find_nb(135440716410000)) #4824\n",
    "print('\\n')\n",
    "print('This is num_of_cubes -> ', find_nb(40539911473216)) #3568\n",
    "print('\\n')\n",
    "print('This is num_of_cubes -> ', find_nb(26825883955641)) #3218\n",
    "print('\\n')\n",
    "print('This is num_of_cubes -> ', find_nb(10148913422064436761)) #73326\n",
    "print('\\n')"
   ]
  },
  {
   "cell_type": "code",
   "execution_count": null,
   "metadata": {},
   "outputs": [],
   "source": [
    "from math import sqrt\n",
    "\n",
    "def find_nb(m):\n",
    "    num_of_cubes = int(sqrt(2 * (sqrt(1.0 * m))))\n",
    "\n",
    "    if (num_of_cubes * (num_of_cubes + 1) // 2) * (num_of_cubes * (num_of_cubes + 1) // 2) == m:\n",
    "        return num_of_cubes\n",
    "    else:\n",
    "        return -1\n",
    "    \n",
    "print('This is num_of_cubes -> ', find_nb(10170290665425347857)) #-1\n",
    "print('\\n')\n",
    "print('This is num_of_cubes -> ', find_nb(4183059834009)) #2022\n",
    "print('\\n')\n",
    "print('This is num_of_cubes -> ', find_nb(24723578342962)) #-1\n",
    "print('\\n')\n",
    "print('This is num_of_cubes -> ', find_nb(135440716410000)) #4824\n",
    "print('\\n')\n",
    "print('This is num_of_cubes -> ', find_nb(40539911473216)) #3568\n",
    "print('\\n')\n",
    "print('This is num_of_cubes -> ', find_nb(26825883955641)) #3218\n",
    "print('\\n')\n",
    "print('This is num_of_cubes -> ', find_nb(10148913422064436761)) #73326\n",
    "print('\\n')"
   ]
  },
  {
   "cell_type": "markdown",
   "metadata": {},
   "source": [
    "# 6 Kyu - Who likes it?"
   ]
  },
  {
   "cell_type": "markdown",
   "metadata": {},
   "source": [
    "You probably know the \"like\" system from Facebook and other pages. People can \"like\" blog posts, pictures or other items. We want to create the text that should be displayed next to such an item.\n",
    "\n",
    "Implement a function likes :: [String] -> String, which must take in input array, containing the names of people who like an item. It must return the display text as shown in the **examples:**\n",
    "\n",
    "likes [] // must be \"no one likes this\"\n",
    "\n",
    "likes [\"Peter\"] // must be \"Peter likes this\"\n",
    "\n",
    "likes [\"Jacob\", \"Alex\"] // must be \"Jacob and Alex like this\"\n",
    "\n",
    "likes [\"Max\", \"John\", \"Mark\"] // must be \"Max, John and Mark like this\"\n",
    "\n",
    "likes [\"Alex\", \"Jacob\", \"Mark\", \"Max\"] // must be \"Alex, Jacob and 2 others like this\""
   ]
  },
  {
   "cell_type": "code",
   "execution_count": 1,
   "metadata": {},
   "outputs": [
    {
     "name": "stdout",
     "output_type": "stream",
     "text": [
      "no one likes this\n",
      "Peter likes this\n",
      "Jacob and Alex like this\n",
      "Max, John and Mark like this\n",
      "Alex, Jacob and 3 others like this\n"
     ]
    }
   ],
   "source": [
    "def likes(names):\n",
    "    len_names = len(names)\n",
    "    if len_names == 0:\n",
    "        return 'no one likes this'\n",
    "    elif len_names == 1:\n",
    "        names += ['likes this']\n",
    "        listToStr = ' '.join([str(elem) for elem in names]) \n",
    "        return listToStr\n",
    "    elif len_names == 2:\n",
    "        names.insert(1,'and')\n",
    "        names += ['like this']\n",
    "        listToStr = ' '.join([str(elem) for elem in names]) \n",
    "        return listToStr\n",
    "    elif len_names == 3:\n",
    "        names[0] = names[0]+','\n",
    "        names.insert(2,'and')\n",
    "        names += ['like this']\n",
    "        listToStr = ' '.join([str(elem) for elem in names]) \n",
    "        return listToStr\n",
    "    elif len_names > 3:\n",
    "        new_names = []\n",
    "        num_other_names = len_names - 2\n",
    "        names[0] = names[0]+','\n",
    "        names.insert(2,'and')\n",
    "        names.insert(3, num_other_names)\n",
    "        for i in range(0, 4, 1):\n",
    "            new_names.insert(i, names[i])\n",
    "        new_names += ['others like this']\n",
    "        listToStr = ' '.join([str(elem) for elem in new_names]) \n",
    "        return listToStr\n",
    "        \n",
    "print(likes([])) #'no one likes this')\n",
    "print(likes(['Peter'])) #'Peter likes this')\n",
    "print(likes(['Jacob', 'Alex'])) #'Jacob and Alex like this')\n",
    "print(likes(['Max', 'John', 'Mark'])) #'Max, John and Mark like this')\n",
    "print(likes(['Alex', 'Jacob', 'Mark', 'Max', 'Sam'])) #'Alex, Jacob and 2 others like this')"
   ]
  },
  {
   "cell_type": "code",
   "execution_count": null,
   "metadata": {},
   "outputs": [],
   "source": [
    "def likes(names):\n",
    "    n = len(names)\n",
    "    return {\n",
    "        0: 'no one likes this',\n",
    "        1: '{} likes this', \n",
    "        2: '{} and {} like this', \n",
    "        3: '{}, {} and {} like this', \n",
    "        4: '{}, {} and {others} others like this'\n",
    "    }[min(4, n)].format(*names[:3], others=n-2)"
   ]
  },
  {
   "cell_type": "code",
   "execution_count": null,
   "metadata": {},
   "outputs": [],
   "source": [
    "def likes(names):\n",
    "    if len(names) == 0:\n",
    "        return \"no one likes this\"\n",
    "    elif len(names) == 1:\n",
    "        return \"%s likes this\" % names[0]\n",
    "    elif len(names) == 2:\n",
    "        return \"%s and %s like this\" % (names[0], names[1])\n",
    "    elif len(names) == 3:\n",
    "        return \"%s, %s and %s like this\" % (names[0], names[1], names[2])\n",
    "    else:\n",
    "        return \"%s, %s and %s others like this\" % (names[0], names[1], len(names)-2)"
   ]
  },
  {
   "cell_type": "markdown",
   "metadata": {},
   "source": [
    "# 7 kyu - Growth of a Population"
   ]
  },
  {
   "cell_type": "markdown",
   "metadata": {},
   "source": [
    "In a small town the population is p0 = 1000 at the beginning of a year. The population regularly increases by 2 percent per year and moreover 50 new inhabitants per year come to live in the town. How many years does the town need to see its population greater or equal to p = 1200 inhabitants?\n",
    "\n",
    "At the end of the first year there will be: \n",
    "1000 + 1000 * 0.02 + 50 => 1070 inhabitants\n",
    "\n",
    "At the end of the 2nd year there will be: \n",
    "1070 + 1070 * 0.02 + 50 => 1141 inhabitants (number of inhabitants is an integer)\n",
    "\n",
    "At the end of the 3rd year there will be:\n",
    "1141 + 1141 * 0.02 + 50 => 1213\n",
    "\n",
    "It will need 3 entire years.\n",
    "\n",
    "**More generally given parameters:**\n",
    "\n",
    "p0, percent, aug (inhabitants coming or leaving each year), p (population to surpass)\n",
    "\n",
    "the function nb_year should return n number of entire years needed to get a population greater or equal to p.\n",
    "\n",
    "aug is an integer, percent a positive or null number, p0 and p are positive integers (> 0)\n",
    "\n",
    "**Examples:**\n",
    "    \n",
    "nb_year(1500, 5, 100, 5000) -> 15\n",
    "\n",
    "nb_year(1500000, 2.5, 10000, 2000000) -> 10"
   ]
  },
  {
   "cell_type": "code",
   "execution_count": 1,
   "metadata": {},
   "outputs": [],
   "source": [
    "def nb_year(p0, percent, aug, p):\n",
    "    years = 0 #counter\n",
    "    we_want_p = p0 #what we want like p or mean p\n",
    "    while (we_want_p < p):\n",
    "            we_want_p = p0 + (p0 * percent/100) + aug\n",
    "            p0 = we_want_p\n",
    "            years += 1\n",
    "    return years"
   ]
  },
  {
   "cell_type": "markdown",
   "metadata": {},
   "source": [
    "# 7 kyu - Find the next perfect square!"
   ]
  },
  {
   "cell_type": "markdown",
   "metadata": {},
   "source": [
    "You might know some pretty large perfect squares. But what about the NEXT one?\n",
    "\n",
    "Complete the findNextSquare method that finds the next integral perfect square after the one passed as a parameter. Recall that an integral perfect square is an integer n such that sqrt(n) is also an integer.\n",
    "\n",
    "If the parameter is itself not a perfect square, than -1 should be returned. You may assume the parameter is positive.\n",
    "\n",
    "**Examples:**\n",
    "\n",
    "findNextSquare(121) --> returns 144\n",
    "\n",
    "findNextSquare(625) --> returns 676\n",
    "\n",
    "findNextSquare(114) --> returns -1 since 114 is not a perfect"
   ]
  },
  {
   "cell_type": "code",
   "execution_count": 2,
   "metadata": {},
   "outputs": [],
   "source": [
    "def find_next_square(sq):\n",
    "    sqrt = sq**(1/2.0)\n",
    "    if (sqrt).is_integer():\n",
    "        return int(sqrt+1)**2\n",
    "    return -1"
   ]
  },
  {
   "cell_type": "markdown",
   "metadata": {},
   "source": [
    "# 7 kyu - Beginner Series #3 Sum of Numbers!"
   ]
  },
  {
   "cell_type": "markdown",
   "metadata": {},
   "source": [
    "Given two integers a and b, which can be positive or negative, find the sum of all the numbers between including them too and return it. If the two numbers are equal return a or b.\n",
    "\n",
    "Note: a and b are not ordered!\n",
    "\n",
    "**Examples:**\n",
    "    \n",
    "get_sum(1, 0) == 1   // 1 + 0 = 1\n",
    "\n",
    "get_sum(1, 2) == 3   // 1 + 2 = 3\n",
    "\n",
    "get_sum(0, 1) == 1   // 0 + 1 = 1\n",
    "\n",
    "get_sum(1, 1) == 1   // 1 Since both are same\n",
    "\n",
    "get_sum(-1, 0) == -1 // -1 + 0 = -1\n",
    "\n",
    "get_sum(-1, 2) == 2  // -1 + 0 + 1 + 2 = 2"
   ]
  },
  {
   "cell_type": "code",
   "execution_count": null,
   "metadata": {},
   "outputs": [],
   "source": [
    "def get_sum(a,b):\n",
    "    if a < b:\n",
    "        list1 = [i for i in range(a, b+1)]\n",
    "        return sum(list1)\n",
    "    \n",
    "    elif a > b:\n",
    "        list1 = [i for i in range(b,a+1)]\n",
    "        return sum(list1)\n",
    "    \n",
    "    elif a == b:\n",
    "        return a"
   ]
  },
  {
   "cell_type": "markdown",
   "metadata": {},
   "source": [
    "# 7 kyu - Number of People in the Bus!"
   ]
  },
  {
   "cell_type": "markdown",
   "metadata": {},
   "source": [
    "Number of people in the bus\n",
    "There is a bus moving in the city, and it takes and drop some people in each bus stop.\n",
    "\n",
    "You are provided with a list (or array) of integer arrays (or tuples). Each integer array has two items which represent number of people get into bus (The first item) and number of people get off the bus (The second item) in a bus stop.\n",
    "\n",
    "Your task is to return number of people who are still in the bus after the last bus station (after the last array). Even though it is the last bus stop, the bus is not empty and some people are still in the bus, and they are probably sleeping there :D\n",
    "\n",
    "Take a look on the test cases.\n",
    "\n",
    "Please keep in mind that the test cases ensure that the number of people in the bus is always >= 0. So the return integer can't be negative.\n",
    "\n",
    "The second value in the first integer array is 0, since the bus is empty in the first bus stop."
   ]
  },
  {
   "cell_type": "code",
   "execution_count": null,
   "metadata": {},
   "outputs": [],
   "source": [
    "def number(bus_stops):\n",
    "    sum1 = sum(i for i, j in bus_stops)\n",
    "    sum2 = sum(j for i, j in bus_stops)    \n",
    "    return sum1 - sum2"
   ]
  },
  {
   "cell_type": "markdown",
   "metadata": {},
   "source": [
    "# 8 kyu - 101 Dalmatians - squash the bugs, not the dogs!"
   ]
  },
  {
   "cell_type": "markdown",
   "metadata": {},
   "source": [
    "Your friend has been out shopping for puppies (what a time to be alive!)... He arrives back with multiple dogs, and you simply do not know how to respond!\n",
    "\n",
    "By repairing the function provided, you will find out exactly how you should respond, depending on the number of dogs he has.\n",
    "\n",
    "The number of dogs will always be a number and there will always be at least 1 dog."
   ]
  },
  {
   "cell_type": "code",
   "execution_count": 4,
   "metadata": {},
   "outputs": [],
   "source": [
    "def how_many_dalmatians(n):\n",
    "  dogs = [\"Hardly any\", \"More than a handful!\", \"Woah that's a lot of dogs!\", \"101 DALMATIONS!!!\"]\n",
    "  \n",
    "  \n",
    "  if n <= 10:\n",
    "      return dogs[0];\n",
    "  elif n <= 50:\n",
    "      return dogs[1];\n",
    "  elif n == 101:\n",
    "      return dogs[3];\n",
    "  else:\n",
    "      return dogs[2];"
   ]
  },
  {
   "cell_type": "markdown",
   "metadata": {},
   "source": [
    "# 8 kyu - Enumerable Magic #25 - Take the First N Elements!"
   ]
  },
  {
   "cell_type": "markdown",
   "metadata": {},
   "source": [
    "Create a method take that accepts a list/array and a number n, and returns a list/array array of the first n elements from the list/array.\n",
    "\n",
    "If you need help, here's a reference:\n",
    "\n",
    "https://docs.python.org/3/library/stdtypes.html#sequence-types-list-tuple-range"
   ]
  },
  {
   "cell_type": "code",
   "execution_count": null,
   "metadata": {},
   "outputs": [],
   "source": [
    "def take(arr,n):\n",
    "    return arr[:n]"
   ]
  },
  {
   "cell_type": "markdown",
   "metadata": {},
   "source": [
    "# 8 kyu - Get Nth Even Number!"
   ]
  },
  {
   "cell_type": "markdown",
   "metadata": {},
   "source": [
    "Return the Nth Even Number\n",
    "\n",
    "nthEven(1) //=> 0, the first even number is 0\n",
    "\n",
    "nthEven(3) //=> 4, the 3rd even number is 4 (0, 2, 4)\n",
    "\n",
    "nthEven(100) //=> 198\n",
    "\n",
    "nthEven(1298734) //=> 2597466\n",
    "\n",
    "**The input will not be 0.**"
   ]
  },
  {
   "cell_type": "code",
   "execution_count": null,
   "metadata": {},
   "outputs": [],
   "source": [
    "def nth_even(n):\n",
    "    return n * 2 - 2"
   ]
  },
  {
   "cell_type": "markdown",
   "metadata": {},
   "source": [
    "# 7 kyu - Vowel Count!"
   ]
  },
  {
   "cell_type": "markdown",
   "metadata": {},
   "source": [
    "Return the number (count) of vowels in the given string.\n",
    "\n",
    "We will consider a, e, i, o, and u as vowels for this Kata.\n",
    "\n",
    "The input string will only consist of lower case letters and/or spaces."
   ]
  },
  {
   "cell_type": "code",
   "execution_count": null,
   "metadata": {},
   "outputs": [],
   "source": [
    "def getCount(inputStr):\n",
    "    num_vowels = 0\n",
    "    vowels = \"aiueo\"\n",
    "    for char in inputStr:\n",
    "        if char in vowels:\n",
    "            num_vowels += 1   \n",
    "    return num_vowels"
   ]
  },
  {
   "cell_type": "markdown",
   "metadata": {},
   "source": [
    "# 7 kyu - Alphabet symmetry!"
   ]
  },
  {
   "cell_type": "markdown",
   "metadata": {},
   "source": [
    "Consider the word \"abode\". We can see that the letter a is in position 1 and b is in position 2. In the alphabet, a and b are also in positions 1 and 2. Notice also that d and e in abode occupy the positions they would occupy in the alphabet, which are positions 4 and 5.\n",
    "\n",
    "Given an array of words, return an array of the number of letters that occupy their positions in the alphabet for each word. For example,\n",
    "\n",
    "solve([\"abode\",\"ABc\",\"xyzD\"]) = [4, 3, 1]\n",
    "\n",
    "See test cases for more examples.\n",
    "\n",
    "Input will consist of alphabet characters, both uppercase and lowercase. No spaces.\n",
    "\n",
    "Good luck!"
   ]
  },
  {
   "cell_type": "code",
   "execution_count": 5,
   "metadata": {},
   "outputs": [],
   "source": [
    "def solve(arr):\n",
    "    solve_list = []\n",
    "    alphabet = \"abcdefghijklmnopqrstuvwxyz\"\n",
    "    alphabet = list(alphabet)  #my lazy ass did it!\n",
    "    for string in range (len(arr)):\n",
    "        arr[string] = arr[string].lower()\n",
    "        counter = 0            #When we on the new string, reset couner!\n",
    "        for index in range (len(arr[string])):             \n",
    "            if  index == alphabet.index(arr[string][index]):         \n",
    "                    counter += 1\n",
    "        solve_list.append(counter)\n",
    "            \n",
    "    return solve_list"
   ]
  },
  {
   "cell_type": "markdown",
   "metadata": {},
   "source": [
    "# 8 kyu - Multiply!"
   ]
  },
  {
   "cell_type": "code",
   "execution_count": null,
   "metadata": {},
   "outputs": [],
   "source": [
    "def multiply(a, b):\n",
    "  return a * b"
   ]
  },
  {
   "cell_type": "markdown",
   "metadata": {},
   "source": [
    "# 8 kyu - Count the Monkeys!"
   ]
  },
  {
   "cell_type": "markdown",
   "metadata": {},
   "source": [
    "You take your son to the forest to see the monkeys. You know that there are a certain number there (n), but your son is too young to just appreciate the full number, he has to start counting them from 1.\n",
    "\n",
    "As a good parent, you will sit and count with him. Given the number (n), populate an array with all numbers up to and including that number, but excluding zero.\n",
    "\n",
    "**For example:**\n",
    "\n",
    "monkeyCount(10) # --> [1, 2, 3, 4, 5, 6, 7, 8, 9, 10]\n",
    "\n",
    "monkeyCount(1) # --> [1]"
   ]
  },
  {
   "cell_type": "code",
   "execution_count": 6,
   "metadata": {},
   "outputs": [],
   "source": [
    "def monkey_count(n):\n",
    "    monkey_list = []\n",
    "    for count in range(1, n+1):\n",
    "        monkey_list.append(count)\n",
    "    return monkey_list"
   ]
  },
  {
   "cell_type": "markdown",
   "metadata": {},
   "source": [
    "# 7 kyu - Reverse words\n",
    "Complete the function that accepts a string parameter, and reverses each word in the string. All spaces in the string should be retained.\n",
    "\n",
    "Examples\n",
    "\"This is an example!\" ==> \"sihT si na !elpmaxe\"\n",
    "\n",
    "\"double  spaces\"      ==> \"elbuod  secaps\""
   ]
  },
  {
   "cell_type": "code",
   "execution_count": 2,
   "metadata": {},
   "outputs": [
    {
     "name": "stdout",
     "output_type": "stream",
     "text": [
      "ehT kciuq nworb xof spmuj revo eht yzal .god\n",
      "elppa\n",
      "a b c d\n",
      "elbuod  decaps  sdrow\n"
     ]
    }
   ],
   "source": [
    "def reverse_words(text):\n",
    "    new_list = text.split(' ')\n",
    "    sec_list = []\n",
    "    for word in new_list:\n",
    "        reverse_word = ''.join(reversed(word))\n",
    "        sec_list.append(reverse_word)\n",
    "    rev_text = ' '.join(sec_list)\n",
    "    return rev_text\n",
    "        \n",
    "        \n",
    "    \n",
    "print(reverse_words('The quick brown fox jumps over the lazy dog.')) # 'ehT kciuq nworb xof spmuj revo eht yzal .god'\n",
    "print(reverse_words('apple'))#'elppa'\n",
    "print(reverse_words('a b c d'))#'a b c d'\n",
    "print(reverse_words('double  spaced  words'))# 'elbuod  decaps  sdrow'"
   ]
  },
  {
   "cell_type": "markdown",
   "metadata": {},
   "source": [
    "Best Practice:"
   ]
  },
  {
   "cell_type": "code",
   "execution_count": 3,
   "metadata": {},
   "outputs": [],
   "source": [
    "def reverse_words(str):\n",
    "    return ' '.join(s[::-1] for s in str.split(' '))"
   ]
  },
  {
   "cell_type": "code",
   "execution_count": null,
   "metadata": {},
   "outputs": [],
   "source": [
    "class Hero():\n",
    "    \"\"\"Class to create Hero for our Game\"\"\"\n",
    "    def __init__(self, name, level, race):\n",
    "        \"\"\"Initiate our Hero\"\"\"\n",
    "        self.name = name\n",
    "        self.level = level\n",
    "        self.race = race\n",
    "        self.health = 100\n",
    "        \n",
    "    def show_hero_params(self):\n",
    "        \"\"\"Show parameters of our Hero\"\"\"\n",
    "        discription = (self.name + \n",
    "                       \" Level is: \" + str(self.level) + \n",
    "                       \" Race is: \" + self.race + \n",
    "                       \" Health level is: \" + str(self.health)).title()\n",
    "        print(discription)\n",
    "        \n",
    "    def level_up(self):\n",
    "        self.level += 1\n",
    "    \n",
    "    def move(self):\n",
    "        print(\"Hero \" + self.name + \" start moving... \")\n",
    "    \n",
    "    def set_health(self, new_health):\n",
    "        self.health = new_health\n",
    "\n",
    "        \n",
    "class Superhero(Hero):\n",
    "    def __init__(self, name, level, race, magic_level):\n",
    "        super().__init__(name, level, race)\n",
    "        self.magic_level = magic_level\n",
    "        self.__magic = 100\n",
    "        \n",
    "    def use_magic(self):\n",
    "        self.__magic -= 10\n",
    "        print(\"Hero \" + self.name + \" used magic... \")\n",
    "        print(\"SKIPUUUUUSH\")\n",
    "    \n",
    "    def show_hero_params(self):\n",
    "        discription = (self.name + \n",
    "                       \" Level is: \" + str(self.level) + \n",
    "                       \" Race is: \" + self.race + \n",
    "                       \" Health level is: \" + str(self.health) + \n",
    "                       \" Magic level is: \" + str(self.__magic)).title()\n",
    "        print(discription)\n",
    "        \n",
    "#--------------------------MAIN--------------------------------------------------------\n",
    "\n",
    "hero_1 = Hero(\"Vurdalachichen\", 5, \"undead\")\n",
    "hero_2 = Hero(\"Kekus\", 6, \"human\")\n",
    "hero_3 = Superhero(\"GachiMuchi\", 10, \"elf\", 5)\n",
    "\n",
    "hero_1.show_hero_params()\n",
    "hero_2.show_hero_params()\n",
    "hero_3.show_hero_params()\n",
    "\n",
    "hero_1.level_up()\n",
    "hero_1.set_health(110)\n",
    "hero_1.show_hero_params()\n",
    "hero_2.move()\n",
    "#U can't change magic directly \n",
    "hero_3.use_magic()\n",
    "hero_3.show_hero_params()\n",
    "hero_3.magic = 10\n",
    "hero_3.show_hero_params()"
   ]
  },
  {
   "cell_type": "markdown",
   "metadata": {},
   "source": [
    "# 8 kyu - Basic subclasses - Adam and Eve"
   ]
  },
  {
   "cell_type": "code",
   "execution_count": 4,
   "metadata": {},
   "outputs": [],
   "source": [
    "class Human():\n",
    "    pass"
   ]
  },
  {
   "cell_type": "code",
   "execution_count": 5,
   "metadata": {},
   "outputs": [],
   "source": [
    "class Man(Human):\n",
    "    pass"
   ]
  },
  {
   "cell_type": "code",
   "execution_count": 6,
   "metadata": {},
   "outputs": [],
   "source": [
    "class Woman(Human):\n",
    "    pass"
   ]
  },
  {
   "cell_type": "code",
   "execution_count": 7,
   "metadata": {},
   "outputs": [],
   "source": [
    "def God():\n",
    " Adam = Man()\n",
    " Eva = Woman()\n",
    " return [Adam,Eva]"
   ]
  },
  {
   "cell_type": "markdown",
   "metadata": {},
   "source": [
    "# 6 kyu - Basics 06: Reversing and Combining Text"
   ]
  },
  {
   "cell_type": "markdown",
   "metadata": {},
   "source": [
    "Your task is to Reverse and Combine Words.\n",
    "It's not too difficult, but there are some things you have to consider...\n",
    "\n",
    "So what to do?\n",
    "\n",
    "Input: String containing different \"words\" separated by spaces\n",
    "\n",
    "1. More than one word? Reverse each word and combine first with second, third with fourth and so on...\n",
    "   (odd number of words => last one stays alone, but has to be reversed too)\n",
    "2. Start it again until there's only one word without spaces\n",
    "3. Return your result...\n",
    "Some easy examples:\n",
    "\n",
    "Input:  \"abc def\"\n",
    "Output: \"cbafed\"\n",
    "\n",
    "Input:  \"abc def ghi 123\"\n",
    "Output: \"defabc123ghi\"\n",
    "\n",
    "Input:  \"abc def gh34 434ff 55_eri 123 343\"\n",
    "Output: \"43hgff434cbafed343ire_55321\"\n",
    "\n",
    "I think it's clear?!"
   ]
  },
  {
   "cell_type": "code",
   "execution_count": 8,
   "metadata": {},
   "outputs": [],
   "source": [
    "def reverse_and_combine_text(text):\n",
    "    splited_text = text.split(' ')\n",
    "\n",
    "    if len(splited_text) == 1:\n",
    "        return text    \n",
    "    while len(splited_text) != 1:\n",
    "        reversed_list_1 = []      \n",
    "        for word in splited_text:\n",
    "            reversed_word = ''.join(list(reversed(word)))\n",
    "            reversed_list_1.append(reversed_word)\n",
    "\n",
    "        reversed_list_2 = []\n",
    "        if len(splited_text)%2 == 0:\n",
    "            for i in range(0, len(splited_text), 2):\n",
    "                reversed_list_2.append(reversed_list_1[i]+reversed_list_1[i+1])\n",
    "            splited_text = reversed_list_2\n",
    "        else:\n",
    "            for i in range(0, len(splited_text) - 1, 2):\n",
    "                reversed_list_2.append(reversed_list_1[i] + reversed_list_1[i + 1])\n",
    "            reversed_list_2.append(reversed_list_1[-1])\n",
    "            splited_text = reversed_list_2\n",
    "            \n",
    "    return splited_text[0]"
   ]
  },
  {
   "cell_type": "markdown",
   "metadata": {},
   "source": [
    "# 5 kyu - Human Readable Time"
   ]
  },
  {
   "cell_type": "markdown",
   "metadata": {},
   "source": [
    "Write a function, which takes a non-negative integer (seconds) as input and returns the time in a human-readable format (HH:MM:SS)\n",
    "\n",
    "HH = hours, padded to 2 digits, range: 00 - 99\n",
    "\n",
    "MM = minutes, padded to 2 digits, range: 00 - 59\n",
    "\n",
    "SS = seconds, padded to 2 digits, range: 00 - 59\n",
    "\n",
    "The maximum time never exceeds 359999 (99:59:59)\n",
    "\n",
    "You can find some examples in the test fixtures."
   ]
  },
  {
   "cell_type": "code",
   "execution_count": 1,
   "metadata": {},
   "outputs": [
    {
     "data": {
      "text/plain": [
       "'00:01:02'"
      ]
     },
     "execution_count": 1,
     "metadata": {},
     "output_type": "execute_result"
    }
   ],
   "source": [
    "def make_readable(seconds):\n",
    "    if seconds <= 359999:\n",
    "        minuts = seconds//60\n",
    "        sec_remainder = seconds%60\n",
    "        if minuts > 59:\n",
    "            hours = minuts//60\n",
    "            min_remainder = minuts%60       \n",
    "            return '%(HH)02d:%(MM)02d:%(SS)02d' % {\"HH\": hours, \"MM\": min_remainder, \"SS\": sec_remainder} \n",
    "    return '%(HH)02d:%(MM)02d:%(SS)02d' % {\"HH\": 00, \"MM\": minuts, \"SS\": sec_remainder}\n",
    "\n",
    "make_readable(359999)\n",
    "make_readable(5)\n",
    "make_readable(60)\n",
    "make_readable(86399)\n",
    "make_readable(62)"
   ]
  },
  {
   "cell_type": "markdown",
   "metadata": {},
   "source": [
    "Best Practice:"
   ]
  },
  {
   "cell_type": "code",
   "execution_count": null,
   "metadata": {},
   "outputs": [],
   "source": [
    "def make_readable(s):\n",
    "    return '{:02}:{:02}:{:02}'.format(s / 3600, s / 60 % 60, s % 60)"
   ]
  },
  {
   "cell_type": "markdown",
   "metadata": {},
   "source": [
    "# 4 kyu - Human readable duration format"
   ]
  },
  {
   "cell_type": "markdown",
   "metadata": {},
   "source": [
    "Your task in order to complete this Kata is to write a function which formats a duration, given as a number of seconds, in a human-friendly way.\n",
    "\n",
    "The function must accept a non-negative integer. If it is zero, it just returns \"now\". Otherwise, the duration is expressed as a combination of years, days, hours, minutes and seconds.\n",
    "\n",
    "It is much easier to understand with an example:\n",
    "\n",
    "format_duration(62)    # returns \"1 minute and 2 seconds\"\n",
    "format_duration(3662)  # returns \"1 hour, 1 minute and 2 seconds\"\n",
    "For the purpose of this Kata, a year is 365 days and a day is 24 hours.\n",
    "\n",
    "Note that spaces are important.\n",
    "\n",
    "Detailed rules\n",
    "The resulting expression is made of components like 4 seconds, 1 year, etc. In general, a positive integer and one of the valid units of time, separated by a space. The unit of time is used in plural if the integer is greater than 1.\n",
    "\n",
    "The components are separated by a comma and a space (\", \"). Except the last component, which is separated by \" and \", just like it would be written in English.\n",
    "\n",
    "A more significant units of time will occur before than a least significant one. Therefore, 1 second and 1 year is not correct, but 1 year and 1 second is.\n",
    "\n",
    "Different components have different unit of times. So there is not repeated units like in 5 seconds and 1 second.\n",
    "\n",
    "A component will not appear at all if its value happens to be zero. Hence, 1 minute and 0 seconds is not valid, but it should be just 1 minute.\n",
    "\n",
    "A unit of time must be used \"as much as possible\". It means that the function should not return 61 seconds, but 1 minute and 1 second instead. Formally, the duration specified by of a component must not be greater than any valid more significant unit of time."
   ]
  },
  {
   "cell_type": "code",
   "execution_count": 38,
   "metadata": {},
   "outputs": [
    {
     "name": "stdout",
     "output_type": "stream",
     "text": [
      "now\n",
      "1 second\n",
      "2 minutes\n",
      "1 hour\n",
      "1 hour, 1 minute and 2 seconds\n",
      "4 days, 3 hours, 59 minutes and 59 seconds\n",
      "5 seconds\n",
      "39 years, 48 days, 19 hours, 28 minutes and 43 seconds\n",
      "23 hours, 59 minutes and 59 seconds\n",
      "1 minute and 2 seconds\n",
      "1 minute\n"
     ]
    }
   ],
   "source": [
    "def format_duration(seconds):\n",
    "    minuts = seconds//60\n",
    "    sec_remainder = seconds%60\n",
    "    sec_call = 'seconds' if sec_remainder != 1 else 'second'\n",
    "    \n",
    "    hours = minuts//60\n",
    "    min_remainder = minuts%60\n",
    "    min_call = 'minutes' if min_remainder != 1 else 'minute'\n",
    "    \n",
    "    days = hours//24\n",
    "    hour_remainder = hours%24\n",
    "    hour_call = 'hours' if hour_remainder != 1 else 'hour'\n",
    "    \n",
    "    years = days//365\n",
    "    day_remainder = days%365\n",
    "    day_call = 'days' if day_remainder != 1 else 'day'\n",
    "    year_call = 'years' if years != 1 else 'year'\n",
    "    \n",
    "    if years == 0 and day_remainder == 0 and hour_remainder == 0 and min_remainder == 0 and sec_remainder == 0:\n",
    "        return 'now'\n",
    "    \n",
    "    elif years == 0 and day_remainder == 0 and hour_remainder == 0 and min_remainder != 0 and sec_remainder != 0:\n",
    "        return '{} {} and {} {}'.format(min_remainder, min_call,\n",
    "                                        sec_remainder, sec_call)\n",
    "    \n",
    "    elif years == 0 and day_remainder == 0 and hour_remainder == 0 and min_remainder == 0 and sec_remainder != 0:\n",
    "        return '{} {}'.format(sec_remainder, sec_call)\n",
    "    \n",
    "    elif years == 0 and day_remainder == 0 and hour_remainder == 0 and min_remainder != 0 and sec_remainder == 0:\n",
    "        return '{} {}'.format(minuts, min_call)\n",
    "    \n",
    "    elif years == 0 and day_remainder == 0 and hour_remainder != 0 and min_remainder == 0 and sec_remainder == 0:\n",
    "        return '{} {}'.format(hour_remainder, hour_call)\n",
    "    \n",
    "    elif years == 0 and day_remainder != 0 and hour_remainder == 0 and min_remainder == 0 and sec_remainder == 0:\n",
    "        return '{} {}'.format(day_remainder, day_call)\n",
    "    \n",
    "    elif years != 0 and day_remainder == 0 and hour_remainder == 0 and min_remainder == 0 and sec_remainder == 0:\n",
    "        return '{} {}'.format(years, year_call)\n",
    "    \n",
    "    elif years != 0 and day_remainder == 0 and hour_remainder != 0 and min_remainder != 0 and sec_remainder != 0:\n",
    "        return '{} {}, {} {}, {} {} and {} {}'.format(years, year_call,\n",
    "                                                      hour_remainder, hour_call,\n",
    "                                                      min_remainder, min_call,\n",
    "                                                      sec_remainder, sec_call)\n",
    "    \n",
    "    elif years == 0 and day_remainder == 0 and hour_remainder != 0 and min_remainder != 0 and sec_remainder != 0:\n",
    "        return '{} {}, {} {} and {} {}'.format(hour_remainder, hour_call,\n",
    "                                               min_remainder, min_call,\n",
    "                                               sec_remainder, sec_call)\n",
    "    \n",
    "    elif years != 0 and day_remainder != 0 and hour_remainder != 0 and min_remainder != 0 and sec_remainder != 0:\n",
    "        return '{} {}, {} {}, {} {}, {} {} and {} {}'.format(years, year_call,\n",
    "                                                             day_remainder, day_call,\n",
    "                                                             hour_remainder, hour_call,\n",
    "                                                             min_remainder, min_call,\n",
    "                                                             sec_remainder, sec_call)\n",
    "    \n",
    "    elif years == 0 and day_remainder != 0 and hour_remainder != 0 and min_remainder != 0 and sec_remainder != 0:\n",
    "        return '{} {}, {} {}, {} {} and {} {}'.format(day_remainder, day_call,\n",
    "                                                      hour_remainder, hour_call,\n",
    "                                                      min_remainder, min_call,\n",
    "                                                      sec_remainder, sec_call) \n",
    "    \n",
    "    elif years == 0 and day_remainder != 0 and hour_remainder == 0 and min_remainder != 0 and sec_remainder != 0:\n",
    "        return '{} {}, {} {} and {} {}'.format(day_remainder, day_call,\n",
    "                                               min_remainder, min_call,\n",
    "                                               sec_remainder, sec_call) \n",
    "    \n",
    "    elif years != 0 and day_remainder != 0 and hour_remainder != 0 and min_remainder != 0 and sec_remainder == 0:\n",
    "        return '{} {}, {} {}, {} {} and {} {}'.format(years, year_call,\n",
    "                                                      day_remainder, day_call,\n",
    "                                                      hour_remainder, hour_call,\n",
    "                                                      min_remainder, min_call)\n",
    "    \n",
    "    elif years == 0 and day_remainder != 0 and hour_remainder != 0 and min_remainder != 0 and sec_remainder == 0:\n",
    "        return '{} {}, {} {} and {} {}'.format(day_remainder, day_call, \n",
    "                                               hour_remainder, hour_call,\n",
    "                                               min_remainder, min_call)\n",
    "    \n",
    "    elif years == 0 and day_remainder != 0 and hour_remainder != 0 and min_remainder == 0 and sec_remainder != 0:\n",
    "        return '{} {}, {} {} and {} {}'.format(day_remainder, day_call,\n",
    "                                               hour_remainder, hour_call,\n",
    "                                               sec_remainder, sec_call)\n",
    "                                               \n",
    "                                                      \n",
    "    \n",
    "    \n",
    "print(format_duration(0))  \n",
    "print(format_duration(1))\n",
    "print(format_duration(120))\n",
    "print(format_duration(3600))\n",
    "print(format_duration(3662))\n",
    "print(format_duration(359999))\n",
    "print(format_duration(5))\n",
    "print(format_duration(1234121323))\n",
    "print(format_duration(86399))\n",
    "print(format_duration(62))\n",
    "print(format_duration(60))"
   ]
  },
  {
   "cell_type": "code",
   "execution_count": null,
   "metadata": {},
   "outputs": [],
   "source": []
  }
 ],
 "metadata": {
  "kernelspec": {
   "display_name": "Python 3",
   "language": "python",
   "name": "python3"
  },
  "language_info": {
   "codemirror_mode": {
    "name": "ipython",
    "version": 3
   },
   "file_extension": ".py",
   "mimetype": "text/x-python",
   "name": "python",
   "nbconvert_exporter": "python",
   "pygments_lexer": "ipython3",
   "version": "3.7.6"
  }
 },
 "nbformat": 4,
 "nbformat_minor": 2
}
